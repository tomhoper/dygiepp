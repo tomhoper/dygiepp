{
 "cells": [
  {
   "cell_type": "code",
   "execution_count": 1,
   "metadata": {},
   "outputs": [
    {
     "output_type": "stream",
     "name": "stdout",
     "text": "[PosixPath('../coviddata/Annotations/arezou_annotations.tsv'), PosixPath('../coviddata/Annotations/madeline_annotations.tsv'), PosixPath('../coviddata/Annotations/jeff_annotations.tsv'), PosixPath('../coviddata/Annotations/kristina_annotations.tsv'), PosixPath('../coviddata/Annotations/megan_annotations.tsv')]\n"
    }
   ],
   "source": [
    "import argparse\n",
    "import json\n",
    "import os   \n",
    "import shutil\n",
    "import subprocess\n",
    "from typing import Any, Dict\n",
    "import sys\n",
    "import pandas as pd\n",
    "from eval_utils import ie_eval\n",
    "import pathlib\n",
    "from pathlib import Path\n",
    "import pandas as pd\n",
    "import itertools\n",
    "from eval_utils import relation_matching\n",
    "\n",
    "root_path = Path(\"../coviddata\")\n",
    "anno_dir = root_path / \"Annotations\"\n",
    "annotator_files = list(anno_dir.glob('*.tsv'))\n",
    "print(annotator_files)"
   ]
  },
  {
   "cell_type": "code",
   "execution_count": 2,
   "metadata": {},
   "outputs": [],
   "source": [
    "golddf = pd.read_csv(annotator_files[1], sep=\"\\t\",header=None, names=[\"id\",\"text\",\"arg0\",\"arg1\",\"rel\",\"y\"])\n",
    "golddf = golddf[golddf[\"y\"]==\"accept\"]\n",
    "golddf[\"rel\"][golddf[\"rel\"]==\"DO\"] =\"MECHANISM\"\n",
    "golddf[\"rel\"][golddf[\"rel\"].str.contains(\"USED\")] = \"MECHANISM\"\n",
    "\n",
    "\n"
   ]
  },
  {
   "cell_type": "code",
   "execution_count": 44,
   "metadata": {},
   "outputs": [
    {
     "output_type": "execute_result",
     "data": {
      "text/plain": "[PosixPath('../coviddata/Annotations/arezou_annotations.tsv'),\n PosixPath('../coviddata/Annotations/madeline_annotations.tsv'),\n PosixPath('../coviddata/Annotations/jeff_annotations.tsv'),\n PosixPath('../coviddata/Annotations/kristina_annotations.tsv'),\n PosixPath('../coviddata/Annotations/megan_annotations.tsv')]"
     },
     "metadata": {},
     "execution_count": 44
    }
   ],
   "source": [
    "annotator_files"
   ]
  },
  {
   "cell_type": "code",
   "execution_count": null,
   "metadata": {},
   "outputs": [],
   "source": [
    "def get_match(pair,labels, text, collapse,jaccard_thresh,match_metric,filter_stop,seen_pred_gold,good_preds):\n",
    "        if collapse:\n",
    "            labels = [1,1]\n",
    "        else:\n",
    "            labels = [pair[0][2],pair[1][2]]\n",
    "        m = relation_matching(pair,metric=match_metric, labels = labels,thresh=jaccard_thresh, filter_stop = filter_stop)\n",
    "        if m and ((i,pair[0][0],pair[0][1],pair[1][0],pair[1][1]) not in seen_pred_gold):\n",
    "            #good_preds.append([i,pair[0],pair[1]])\n",
    "            good_preds.append((i,tuple(pair[0]),tuple(pair[1]),text))\n",
    "            seen_pred_gold[(i,pair[0][0],pair[0][1],pair[1][0],pair[1][1])]=1"
   ]
  },
  {
   "cell_type": "code",
   "execution_count": 72,
   "metadata": {
    "tags": [
     "outputPrepend",
     "outputPrepend"
    ]
   },
   "outputs": [
    {
     "output_type": "stream",
     "name": "stdout",
     "text": "../coviddata/Annotations/arezou_annotations.tsv\n68\ncollapsed: True metric: substring agree: 0.47368421052631576\ncollapsed: False metric: substring agree: 0.631578947368421\n../coviddata/Annotations/jeff_annotations.tsv\n77\ncollapsed: True metric: substring agree: 0.49122807017543857\ncollapsed: False metric: substring agree: 0.5263157894736842\n../coviddata/Annotations/kristina_annotations.tsv\n36\ncollapsed: True metric: substring agree: 0.5087719298245614\ncollapsed: False metric: substring agree: 0.543859649122807\n../coviddata/Annotations/megan_annotations.tsv\n66\ncollapsed: True metric: substring agree: 0.5964912280701754\ncollapsed: False metric: substring agree: 0.6842105263157895\n"
    }
   ],
   "source": [
    "\n",
    "jaccard_thresh = 0.3\n",
    "#iterate over annotator files except gold\n",
    "for annofile in [a for a in annotator_files if \"mad\" not in a.name]:\n",
    "    print(annofile)\n",
    "    #map USED/DO to MECH\n",
    "    annodf = pd.read_csv(annofile, sep=\"\\t\",header=None, names=[\"id\",\"text\",\"arg0\",\"arg1\",\"rel\",\"y\"])\n",
    "    annodf = annodf[annodf[\"y\"]==\"accept\"]\n",
    "    annodf[\"rel\"][annodf[\"rel\"]==\"DO\"] =\"MECHANISM\"\n",
    "    annodf[\"rel\"][annodf[\"rel\"].str.contains(\"USED\")] = \"MECHANISM\"\n",
    "    overlap = set(annodf.id).intersection(set(golddf.id))\n",
    "    #use only overalpping documents\n",
    "    annodf = annodf[annodf[\"id\"].isin(overlap)]\n",
    "    golddf = golddf[golddf[\"id\"].isin(overlap)]\n",
    "\n",
    "    goldrels = golddf[[\"id\",\"arg0\",\"arg1\",\"rel\"]]#.drop_duplicates()\n",
    "    goldrels = goldrels.drop_duplicates(subset =[\"id\",\"arg0\",\"arg1\"]).set_index(\"id\")\n",
    "    if \"conf\" in annodf.columns:\n",
    "        predrels = annodf[[\"id\",\"arg0\",\"arg1\",\"rel\",\"conf\"]].drop_duplicates(subset =[\"id\",\"arg0\",\"arg1\"]).set_index(\"id\",inplace=False)\n",
    "    else:\n",
    "        predrels = annodf[[\"id\",\"arg0\",\"arg1\",\"rel\"]].drop_duplicates(subset =[\"id\",\"arg0\",\"arg1\"]).set_index(\"id\",inplace=False)\n",
    "    \n",
    "    print(len(predrels))\n",
    "    good_preds1 = []\n",
    "    seen_pred_gold1 = {}\n",
    "    good_preds2 = []\n",
    "    seen_pred_gold2 = {}\n",
    "\n",
    "    match_count = 0\n",
    "    for i in predrels.index.unique():\n",
    "        if i in goldrels.index.unique():\n",
    "            gold = goldrels.loc[i]\n",
    "            text = golddf[golddf.id == i][\"text\"].unique()\n",
    "            if type(predrels.loc[i]) == pd.core.series.Series:\n",
    "                preds = [predrels.loc[i].values]\n",
    "            else:\n",
    "                preds = predrels.loc[i].values\n",
    "            c = list(itertools.product(gold.values, preds))\n",
    "            #for each pair, find gold-annotation matches according to different criteria (e.g., collapse true/false or match_metric jaccard/substring)\n",
    "            #compute agreement \n",
    "            #find the diff between two criteria for each annotator and save to disk\n",
    "            for pair in c:\n",
    "                collapse = False\n",
    "                get_match(pair,labels,text,collapse=collapse,jaccard_thresh=jaccard_thresh,match_metric='substring',filter_stop=True,seen_pred_gold = seen_pred_gold1,\\\n",
    "                good_preds=good_preds1)\n",
    "                collapse = True\n",
    "                get_match(pair, labels, text,collapse=collapse,jaccard_thresh= jaccard_thresh,match_metric=\"substring\",filter_stop=\"True\",seen_pred_gold = seen_pred_gold2,\\\n",
    "                good_preds = good_preds2)\n",
    "\n",
    "    print('collapsed: {0} metric: {1} agree: {2}'.format(True, 'substring',len(seen_pred_gold1)/len(goldrels)))          \n",
    "    print('collapsed: {0} metric: {1} agree: {2}'.format(False, 'substring',len(seen_pred_gold2)/len(goldrels)))\n",
    "\n",
    "    diff_csv = []\n",
    "    for g in good_preds2:\n",
    "        if tuple(g) not in good_preds1:\n",
    "            diff_csv.append([g[0],g[3],g[1][0],g[1][1],g[1][2],g[2][0],g[2][1],g[2][2]])\n",
    "    \n",
    "    pd.DataFrame(diff_csv,columns = [\"abstract_id\",\"text\",\"gold_arg0\",\"gold_arg1\",\"gold_label\",\"anno_arg0\",\"anno_arg1\",\"anno_label\"]).to_csv(annofile.name+\"_diff_gold.csv\",header=True,index=False,sep=\"\\t\")"
   ]
  },
  {
   "cell_type": "code",
   "execution_count": null,
   "metadata": {},
   "outputs": [],
   "source": [
    "\n"
   ]
  }
 ],
 "metadata": {
  "language_info": {
   "codemirror_mode": {
    "name": "ipython",
    "version": 3
   },
   "file_extension": ".py",
   "mimetype": "text/x-python",
   "name": "python",
   "nbconvert_exporter": "python",
   "pygments_lexer": "ipython3",
   "version": "3.7.7-final"
  },
  "orig_nbformat": 2,
  "kernelspec": {
   "name": "python37764bitallennlpconda12d55c2195cb49daa24f83d300014659",
   "display_name": "Python 3.7.7 64-bit ('allennlp': conda)"
  }
 },
 "nbformat": 4,
 "nbformat_minor": 2
}