{
 "cells": [
  {
   "cell_type": "code",
   "execution_count": 39,
   "metadata": {},
   "outputs": [
    {
     "output_type": "stream",
     "name": "stdout",
     "text": "[PosixPath('../coviddata/Annotations/arezou_annotations.tsv'), PosixPath('../coviddata/Annotations/madeline_annotations.tsv'), PosixPath('../coviddata/Annotations/jeff_annotations.tsv'), PosixPath('../coviddata/Annotations/kristina_annotations.tsv'), PosixPath('../coviddata/Annotations/megan_annotations.tsv'), PosixPath('../coviddata/Annotations/megan_corrections.tsv'), PosixPath('../coviddata/Annotations/madeline_corrections.tsv')]\n"
    }
   ],
   "source": [
    "import argparse\n",
    "import json\n",
    "import os   \n",
    "import shutil\n",
    "import subprocess\n",
    "from typing import Any, Dict\n",
    "import sys\n",
    "import pandas as pd\n",
    "from eval_utils import ie_eval\n",
    "import pathlib\n",
    "from pathlib import Path\n",
    "import pandas as pd\n",
    "import itertools\n",
    "from eval_utils import relation_matching\n",
    "import spacy \n",
    "\n",
    "root_path = Path(\"../coviddata\")\n",
    "anno_dir = root_path / \"Annotations\"\n",
    "annotator_files = list(anno_dir.glob('*.tsv'))\n",
    "print(annotator_files)"
   ]
  },
  {
   "cell_type": "code",
   "execution_count": 40,
   "metadata": {},
   "outputs": [],
   "source": [
    "golddf = pd.read_csv(annotator_files[-1], sep=\"\\t\",header=None, names=[\"id\",\"text\",\"arg0\",\"arg1\",\"rel\",\"y\"])\n",
    "golddf = golddf[golddf[\"y\"]==\"accept\"]\n",
    "golddf[\"rel\"][golddf[\"rel\"]==\"DO\"] =\"MECHANISM\"\n",
    "golddf[\"rel\"][golddf[\"rel\"].str.contains(\"USED\")] = \"MECHANISM\"\n",
    "\n",
    "\n"
   ]
  },
  {
   "cell_type": "code",
   "execution_count": 38,
   "metadata": {},
   "outputs": [
    {
     "output_type": "execute_result",
     "data": {
      "text/plain": "                    id                                               text  \\\n0    at9jg710_abstract  The N - terminal domain of the coronavirus nuc...   \n1    at9jg710_abstract  This domain was shown to interact with the gen...   \n2    at9jg710_abstract  This domain was shown to interact with the gen...   \n3    at9jg710_abstract  This domain was shown to interact with the gen...   \n4    at9jg710_abstract  Based on its 3D structure , we used site - dir...   \n..                 ...                                                ...   \n102  fu0v9fch_abstract  Recently , chronic immune reactivity has been ...   \n103  fu0v9fch_abstract  Herein , we summarize the varied interactions ...   \n104  lviulxuk_abstract  The aims of this study were to investigate the...   \n105  lviulxuk_abstract  Nasopharyngeal samples from 300 patients , pre...   \n106  lviulxuk_abstract  Nasopharyngeal samples from 300 patients , pre...   \n\n                                      arg0  \\\n0                                     fold   \n1                                   domain   \n2            interact with the genomic RNA   \n3            interact with the genomic RNA   \n4              site - directed mutagenesis   \n..                                     ...   \n102  loss of RPE immunosuppressive factors   \n103                               RPE cell   \n104               human bocavirus ( HBoV )   \n105                                   qPCR   \n106                                    PCR   \n\n                                                  arg1        rel       y  \n0    N - terminal domain of the coronavirus nucleoc...  MECHANISM  accept  \n1                        interact with the genomic RNA  MECHANISM  accept  \n2      coronavirus infectious bronchitis virus ( IBV )  MECHANISM  accept  \n3    severe acute respiratory syndrome coronavirus ...  MECHANISM  accept  \n4                                    identify residues  MECHANISM  accept  \n..                                                 ...        ...     ...  \n102       generation of excessive retinal inflammation     EFFECT  accept  \n103                                    immune response  MECHANISM  accept  \n104               acute respiratory infections ( ARI )     EFFECT  accept  \n105                                NSP1 and NP-1 genes  MECHANISM  accept  \n106                                         VP1/2 gene  MECHANISM  accept  \n\n[107 rows x 6 columns]",
      "text/html": "<div>\n<style scoped>\n    .dataframe tbody tr th:only-of-type {\n        vertical-align: middle;\n    }\n\n    .dataframe tbody tr th {\n        vertical-align: top;\n    }\n\n    .dataframe thead th {\n        text-align: right;\n    }\n</style>\n<table border=\"1\" class=\"dataframe\">\n  <thead>\n    <tr style=\"text-align: right;\">\n      <th></th>\n      <th>id</th>\n      <th>text</th>\n      <th>arg0</th>\n      <th>arg1</th>\n      <th>rel</th>\n      <th>y</th>\n    </tr>\n  </thead>\n  <tbody>\n    <tr>\n      <th>0</th>\n      <td>at9jg710_abstract</td>\n      <td>The N - terminal domain of the coronavirus nuc...</td>\n      <td>fold</td>\n      <td>N - terminal domain of the coronavirus nucleoc...</td>\n      <td>MECHANISM</td>\n      <td>accept</td>\n    </tr>\n    <tr>\n      <th>1</th>\n      <td>at9jg710_abstract</td>\n      <td>This domain was shown to interact with the gen...</td>\n      <td>domain</td>\n      <td>interact with the genomic RNA</td>\n      <td>MECHANISM</td>\n      <td>accept</td>\n    </tr>\n    <tr>\n      <th>2</th>\n      <td>at9jg710_abstract</td>\n      <td>This domain was shown to interact with the gen...</td>\n      <td>interact with the genomic RNA</td>\n      <td>coronavirus infectious bronchitis virus ( IBV )</td>\n      <td>MECHANISM</td>\n      <td>accept</td>\n    </tr>\n    <tr>\n      <th>3</th>\n      <td>at9jg710_abstract</td>\n      <td>This domain was shown to interact with the gen...</td>\n      <td>interact with the genomic RNA</td>\n      <td>severe acute respiratory syndrome coronavirus ...</td>\n      <td>MECHANISM</td>\n      <td>accept</td>\n    </tr>\n    <tr>\n      <th>4</th>\n      <td>at9jg710_abstract</td>\n      <td>Based on its 3D structure , we used site - dir...</td>\n      <td>site - directed mutagenesis</td>\n      <td>identify residues</td>\n      <td>MECHANISM</td>\n      <td>accept</td>\n    </tr>\n    <tr>\n      <th>...</th>\n      <td>...</td>\n      <td>...</td>\n      <td>...</td>\n      <td>...</td>\n      <td>...</td>\n      <td>...</td>\n    </tr>\n    <tr>\n      <th>102</th>\n      <td>fu0v9fch_abstract</td>\n      <td>Recently , chronic immune reactivity has been ...</td>\n      <td>loss of RPE immunosuppressive factors</td>\n      <td>generation of excessive retinal inflammation</td>\n      <td>EFFECT</td>\n      <td>accept</td>\n    </tr>\n    <tr>\n      <th>103</th>\n      <td>fu0v9fch_abstract</td>\n      <td>Herein , we summarize the varied interactions ...</td>\n      <td>RPE cell</td>\n      <td>immune response</td>\n      <td>MECHANISM</td>\n      <td>accept</td>\n    </tr>\n    <tr>\n      <th>104</th>\n      <td>lviulxuk_abstract</td>\n      <td>The aims of this study were to investigate the...</td>\n      <td>human bocavirus ( HBoV )</td>\n      <td>acute respiratory infections ( ARI )</td>\n      <td>EFFECT</td>\n      <td>accept</td>\n    </tr>\n    <tr>\n      <th>105</th>\n      <td>lviulxuk_abstract</td>\n      <td>Nasopharyngeal samples from 300 patients , pre...</td>\n      <td>qPCR</td>\n      <td>NSP1 and NP-1 genes</td>\n      <td>MECHANISM</td>\n      <td>accept</td>\n    </tr>\n    <tr>\n      <th>106</th>\n      <td>lviulxuk_abstract</td>\n      <td>Nasopharyngeal samples from 300 patients , pre...</td>\n      <td>PCR</td>\n      <td>VP1/2 gene</td>\n      <td>MECHANISM</td>\n      <td>accept</td>\n    </tr>\n  </tbody>\n</table>\n<p>107 rows × 6 columns</p>\n</div>"
     },
     "metadata": {},
     "execution_count": 38
    }
   ],
   "source": [
    "golddf"
   ]
  },
  {
   "cell_type": "code",
   "execution_count": 15,
   "metadata": {},
   "outputs": [],
   "source": [
    "lens0gold = golddf[\"arg0\"].str.split().str.len()\n",
    "lens1gold = golddf[\"arg1\"].str.split().str.len()"
   ]
  },
  {
   "cell_type": "code",
   "execution_count": 16,
   "metadata": {},
   "outputs": [
    {
     "output_type": "execute_result",
     "data": {
      "text/plain": "7.0"
     },
     "metadata": {},
     "execution_count": 16
    }
   ],
   "source": [
    "lens1gold.quantile(0.9)"
   ]
  },
  {
   "cell_type": "code",
   "execution_count": 9,
   "metadata": {},
   "outputs": [
    {
     "output_type": "stream",
     "name": "stdout",
     "text": "../coviddata/Annotations/arezou_annotations.tsv\n16.19999999999999\n28.799999999999983\n../coviddata/Annotations/madeline_annotations.tsv\n8.349999999999909\n9.0\n../coviddata/Annotations/jeff_annotations.tsv\n9.849999999999994\n14.0\n../coviddata/Annotations/kristina_annotations.tsv\n17.19999999999999\n25.0\n../coviddata/Annotations/megan_annotations.tsv\n19.0\n21.0\n../coviddata/Annotations/megan_corrections.tsv\n7.349999999999994\n8.0\n../coviddata/Annotations/madeline_corrections.tsv\n7.699999999999989\n8.0\n"
    }
   ],
   "source": [
    "for annofile in [a for a in annotator_files if \"mad\" not in a.name]:\n",
    "    print(annofile)\n",
    "    #map USED/DO to MECH\n",
    "    annodf = pd.read_csv(annofile, sep=\"\\t\",header=None, names=[\"id\",\"text\",\"arg0\",\"arg1\",\"rel\",\"y\"])\n",
    "    lens0anno= annodf[\"arg0\"].str.split().str.len()\n",
    "    lens1anno = annodf[\"arg1\"].str.split().str.len()\n",
    "    lens0gold.quantile(0.9)\n",
    "    print(lens0anno.quantile(0.95))\n",
    "    print(lens1anno.quantile(0.95))"
   ]
  },
  {
   "cell_type": "code",
   "execution_count": 17,
   "metadata": {},
   "outputs": [
    {
     "output_type": "execute_result",
     "data": {
      "text/plain": "[PosixPath('../coviddata/Annotations/arezou_annotations.tsv'),\n PosixPath('../coviddata/Annotations/madeline_annotations.tsv'),\n PosixPath('../coviddata/Annotations/jeff_annotations.tsv'),\n PosixPath('../coviddata/Annotations/kristina_annotations.tsv'),\n PosixPath('../coviddata/Annotations/megan_annotations.tsv'),\n PosixPath('../coviddata/Annotations/megan_corrections.tsv'),\n PosixPath('../coviddata/Annotations/madeline_corrections.tsv')]"
     },
     "metadata": {},
     "execution_count": 17
    }
   ],
   "source": [
    "annotator_files"
   ]
  },
  {
   "cell_type": "code",
   "execution_count": 18,
   "metadata": {},
   "outputs": [],
   "source": [
    "def get_match(pair, text, collapse,jaccard_thresh,match_metric,filter_stop,seen_pred_gold,good_preds,span_mode=False):\n",
    "        if collapse:\n",
    "            labels = [1,1]\n",
    "        else:\n",
    "            labels = [pair[0][2],pair[1][2]]\n",
    "        m = relation_matching(pair,metric=match_metric, labels = labels,thresh=jaccard_thresh, filter_stop = filter_stop, span_mode= span_mode)\n",
    "        if m and ((i,pair[0][0],pair[0][1],pair[1][0],pair[1][1]) not in seen_pred_gold):\n",
    "            #good_preds.append([i,pair[0],pair[1]])\n",
    "            good_preds.append((i,tuple(pair[0]),tuple(pair[1]),text))\n",
    "            seen_pred_gold[(i,pair[0][0],pair[0][1],pair[1][0],pair[1][1])]=1"
   ]
  },
  {
   "cell_type": "code",
   "execution_count": 45,
   "metadata": {},
   "outputs": [
    {
     "output_type": "stream",
     "name": "stdout",
     "text": "../coviddata/Annotations/arezou_annotations.tsv\ncollapsed: True metric: substring agree: 0.5373134328358209 total correct preds: 36 total gold: 66\ncollapsed: True metric: substring agree: 0.40298507462686567 total correct preds: 27 total gold: 66\n***\n../coviddata/Annotations/madeline_annotations.tsv\ncollapsed: True metric: substring agree: 0.8455284552845529 total correct preds: 52 total gold: 66\ncollapsed: True metric: substring agree: 0.8292682926829268 total correct preds: 51 total gold: 66\n***\n../coviddata/Annotations/jeff_annotations.tsv\ncollapsed: True metric: substring agree: 0.5454545454545454 total correct preds: 39 total gold: 66\ncollapsed: True metric: substring agree: 0.48951048951048953 total correct preds: 35 total gold: 66\n***\n../coviddata/Annotations/kristina_annotations.tsv\ncollapsed: True metric: substring agree: 0.6862745098039216 total correct preds: 35 total gold: 66\ncollapsed: True metric: substring agree: 0.5882352941176471 total correct preds: 30 total gold: 66\n***\n../coviddata/Annotations/megan_annotations.tsv\ncollapsed: True metric: substring agree: 0.6363636363636364 total correct preds: 42 total gold: 66\ncollapsed: True metric: substring agree: 0.5303030303030303 total correct preds: 35 total gold: 66\n***\n../coviddata/Annotations/megan_corrections.tsv\ncollapsed: True metric: substring agree: 0.5411764705882353 total correct preds: 46 total gold: 66\ncollapsed: True metric: substring agree: 0.43529411764705883 total correct preds: 37 total gold: 66\n***\n../coviddata/Annotations/madeline_corrections.tsv\ncollapsed: True metric: substring agree: 1.0303030303030303 total correct preds: 68 total gold: 66\ncollapsed: True metric: substring agree: 1.0303030303030303 total correct preds: 68 total gold: 66\n***\n"
    }
   ],
   "source": [
    "\n",
    "jaccard_thresh = 0.3\n",
    "#iterate over annotator files except gold\n",
    "for annofile in annotator_files:#[a for a in annotator_files if \"mad\" not in a.name]:\n",
    "    print(annofile)\n",
    "    #map USED/DO to MECH\n",
    "    annodf = pd.read_csv(annofile, sep=\"\\t\",header=None, names=[\"id\",\"text\",\"arg0\",\"arg1\",\"rel\",\"y\"])\n",
    "    annodf = annodf[annodf[\"y\"]==\"accept\"]\n",
    "    lens0anno= annodf[\"arg0\"].str.split().str.len()\n",
    "    lens1anno = annodf[\"arg1\"].str.split().str.len()\n",
    "    \n",
    "    annodf[\"rel\"][annodf[\"rel\"]==\"DO\"] =\"MECHANISM\"\n",
    "    annodf[\"rel\"][annodf[\"rel\"].str.contains(\"USED\")] = \"MECHANISM\"\n",
    "    overlap = set(annodf.id).intersection(set(golddf.id))\n",
    "    #use only overalpping documents\n",
    "    annodf = annodf[annodf[\"id\"].isin(overlap)]\n",
    "    golddf = golddf[golddf[\"id\"].isin(overlap)]\n",
    "\n",
    "    goldrels = golddf[[\"id\",\"arg0\",\"arg1\",\"rel\"]]#.drop_duplicates()\n",
    "    goldrels = goldrels.drop_duplicates(subset =[\"id\",\"arg0\",\"arg1\"]).set_index(\"id\")\n",
    "    if \"conf\" in annodf.columns:\n",
    "        predrels = annodf[[\"id\",\"arg0\",\"arg1\",\"rel\",\"conf\"]].drop_duplicates(subset =[\"id\",\"arg0\",\"arg1\"]).set_index(\"id\",inplace=False)\n",
    "    else:\n",
    "        predrels = annodf[[\"id\",\"arg0\",\"arg1\",\"rel\"]].drop_duplicates(subset =[\"id\",\"arg0\",\"arg1\"]).set_index(\"id\",inplace=False)\n",
    "    \n",
    "    good_preds1 = []\n",
    "    seen_pred_gold1 = {}\n",
    "    good_preds2 = []\n",
    "    seen_pred_gold2 = {}\n",
    "\n",
    "    match_count = 0\n",
    "    for i in predrels.index.unique():\n",
    "        if i in goldrels.index.unique():\n",
    "            gold = goldrels.loc[i]\n",
    "            text = golddf[golddf.id == i][\"text\"].unique()\n",
    "            if type(predrels.loc[i]) == pd.core.series.Series:\n",
    "                preds = [predrels.loc[i].values]\n",
    "            else:\n",
    "                preds = predrels.loc[i].values\n",
    "            c = list(itertools.product(gold.values, preds))\n",
    "            #for each pair, find gold-annotation matches according to different criteria (e.g., collapse true/false or match_metric jaccard/substring)\n",
    "            #compute agreement \n",
    "            #find the diff between two criteria for each annotator and save to disk\n",
    "            for pair in c:\n",
    "                collapse = True\n",
    "                get_match(pair,text = text,collapse=collapse,jaccard_thresh=jaccard_thresh,match_metric='substring',filter_stop=False,seen_pred_gold = seen_pred_gold1,\\\n",
    "                good_preds=good_preds1)\n",
    "                collapse = False\n",
    "                get_match(pair, text =text,collapse=collapse,jaccard_thresh= jaccard_thresh,match_metric=\"substring\",filter_stop=False,seen_pred_gold = seen_pred_gold2,\\\n",
    "                good_preds = good_preds2)\n",
    "\n",
    "    print('collapsed: {0} metric: {1} agree: {2} total correct preds: {3} total gold: {4}'.format(True, 'substring',2*len(good_preds1)/(len(goldrels) + len(predrels)),\n",
    "    len(good_preds1), len(goldrels))) \n",
    "    print('collapsed: {0} metric: {1} agree: {2} total correct preds: {3} total gold: {4}'.format(True, 'substring',2*len(good_preds2)/(len(goldrels) + len(predrels)),\n",
    "    len(good_preds2), len(goldrels)))\n",
    "    print('***')\n",
    "    diff_csv = []\n",
    "    for g in good_preds1:\n",
    "        if tuple(g) not in good_preds2:\n",
    "            diff_csv.append([g[0],g[3],g[1][0],g[1][1],g[1][2],g[2][0],g[2][1],g[2][2]])\n",
    "    \n",
    "    pd.DataFrame(diff_csv,columns = [\"abstract_id\",\"text\",\"gold_arg0\",\"gold_arg1\",\"gold_label\",\"anno_arg0\",\"anno_arg1\",\"anno_label\"]).to_csv(annofile.name+\"_diff_gold.csv\",header=True,index=False,sep=\"\\t\")"
   ]
  },
  {
   "cell_type": "code",
   "execution_count": 11,
   "metadata": {},
   "outputs": [
    {
     "output_type": "execute_result",
     "data": {
      "text/plain": "(array(['PROBE', 'commercial eXplosives Identification Tool', 'MECHANISM'],\n       dtype=object),\n array(['( XIT )',\n        'transform disparate , often paper - based , information on commercial explosives and articles into a standardized electronic database',\n        'MECHANISM'], dtype=object))"
     },
     "metadata": {},
     "execution_count": 11
    }
   ],
   "source": [
    "pair"
   ]
  },
  {
   "cell_type": "code",
   "execution_count": 3,
   "metadata": {},
   "outputs": [],
   "source": [
    "\n",
    "hypothesis = \"Alanine substitution\"\n",
    "\n",
    "reference = \"Alanine substitution of either Arg-76 or Tyr-94 in the N - terminal domain of IBV N protein\"\n",
    "\n",
    "rouge = Rouge()\n",
    "scores = rouge.get_scores(reference, hypothesis)\n"
   ]
  },
  {
   "cell_type": "code",
   "execution_count": 5,
   "metadata": {},
   "outputs": [],
   "source": [
    "scores = rouge.get_scores(\"r\", \"b\")\n"
   ]
  },
  {
   "cell_type": "code",
   "execution_count": 6,
   "metadata": {},
   "outputs": [
    {
     "output_type": "execute_result",
     "data": {
      "text/plain": "[{'rouge-1': {'f': 0.0, 'p': 0.0, 'r': 0.0},\n  'rouge-2': {'f': 0.0, 'p': 0.0, 'r': 0.0},\n  'rouge-l': {'f': 0.0, 'p': 0.0, 'r': 0.0}}]"
     },
     "metadata": {},
     "execution_count": 6
    }
   ],
   "source": [
    "scores"
   ]
  },
  {
   "cell_type": "code",
   "execution_count": 9,
   "metadata": {},
   "outputs": [],
   "source": [
    "doc = nlp(pair[0][1])\n",
    "[t for t in doc if t.dep_ ==\"ROOT\"]"
   ]
  },
  {
   "cell_type": "code",
   "execution_count": 13,
   "metadata": {},
   "outputs": [
    {
     "output_type": "execute_result",
     "data": {
      "text/plain": "commercial eXplosives Identification Tool"
     },
     "metadata": {},
     "execution_count": 13
    }
   ],
   "source": [
    "doc"
   ]
  },
  {
   "cell_type": "code",
   "execution_count": 12,
   "metadata": {},
   "outputs": [
    {
     "output_type": "execute_result",
     "data": {
      "text/plain": "[Tool]"
     },
     "metadata": {},
     "execution_count": 12
    }
   ],
   "source": [
    "[t for t in doc if t.dep_ ==\"ROOT\"]"
   ]
  },
  {
   "cell_type": "code",
   "execution_count": 14,
   "metadata": {},
   "outputs": [
    {
     "output_type": "execute_result",
     "data": {
      "text/plain": "array(['( XIT )',\n       'transform disparate , often paper - based , information on commercial explosives and articles into a standardized electronic database',\n       'MECHANISM'], dtype=object)"
     },
     "metadata": {},
     "execution_count": 14
    }
   ],
   "source": [
    "pair[1]"
   ]
  },
  {
   "cell_type": "code",
   "execution_count": null,
   "metadata": {},
   "outputs": [],
   "source": []
  }
 ],
 "metadata": {
  "language_info": {
   "codemirror_mode": {
    "name": "ipython",
    "version": 3
   },
   "file_extension": ".py",
   "mimetype": "text/x-python",
   "name": "python",
   "nbconvert_exporter": "python",
   "pygments_lexer": "ipython3",
   "version": "3.7.7-final"
  },
  "orig_nbformat": 2,
  "kernelspec": {
   "name": "python37764bitallennlpconda12d55c2195cb49daa24f83d300014659",
   "display_name": "Python 3.7.7 64-bit ('allennlp': conda)"
  }
 },
 "nbformat": 4,
 "nbformat_minor": 2
}